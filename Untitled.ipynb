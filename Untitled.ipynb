{
 "cells": [
  {
   "cell_type": "code",
   "execution_count": 6,
   "id": "b7b72aaf",
   "metadata": {
    "scrolled": true
   },
   "outputs": [
    {
     "data": {
      "text/plain": [
       "[{'_id': {'$oid': '61ccc9d7b227502b7b34d583'},\n",
       "  'stage': 'Semi-finals',\n",
       "  'team_name_home': 'Italy',\n",
       "  'team_name_away': 'Spain',\n",
       "  'team_home_score': '1',\n",
       "  'team_away_score': '1'},\n",
       " {'_id': {'$oid': '61ccc9d7b227502b7b34d587'},\n",
       "  'stage': 'Quarter-finals',\n",
       "  'team_name_home': 'Switzerland',\n",
       "  'team_name_away': 'Spain',\n",
       "  'team_home_score': '1',\n",
       "  'team_away_score': '1'},\n",
       " {'_id': {'$oid': '61ccc9d7b227502b7b34d58b'},\n",
       "  'stage': 'Round of 16',\n",
       "  'team_name_home': 'Croatia',\n",
       "  'team_name_away': 'Spain',\n",
       "  'team_home_score': '3',\n",
       "  'team_away_score': '5'},\n",
       " {'_id': {'$oid': '61ccc9d7b227502b7b34d593'},\n",
       "  'stage': 'Group stage: Matchday 3',\n",
       "  'team_name_home': 'Slovakia',\n",
       "  'team_name_away': 'Spain',\n",
       "  'team_home_score': '0',\n",
       "  'team_away_score': '5'},\n",
       " {'_id': {'$oid': '61ccc9d7b227502b7b34d59c'},\n",
       "  'stage': 'Group stage: Matchday 2',\n",
       "  'team_name_home': 'Spain',\n",
       "  'team_name_away': 'Poland',\n",
       "  'team_home_score': '1',\n",
       "  'team_away_score': '1'},\n",
       " {'_id': {'$oid': '61ccc9d7b227502b7b34d5aa'},\n",
       "  'stage': 'Group stage: Matchday 1',\n",
       "  'team_name_home': 'Spain',\n",
       "  'team_name_away': 'Sweden',\n",
       "  'team_home_score': '0',\n",
       "  'team_away_score': '0'}]"
      ]
     },
     "execution_count": 6,
     "metadata": {},
     "output_type": "execute_result"
    }
   ],
   "source": [
    "import requests\n",
    "equipo = 'Spain'\n",
    "urlheroku = \"https://newappeurocopa.herokuapp.com\"\n",
    "partidos = requests.get(urlheroku + \"/eurocopa/selecciones/\"+equipo).json()\n",
    "partidos\n",
    "\n"
   ]
  },
  {
   "cell_type": "code",
   "execution_count": 11,
   "id": "cef13580",
   "metadata": {},
   "outputs": [
    {
     "data": {
      "text/plain": [
       "[[1, 1], [2, 1], [3, 5], [4, 5], [5, 1], [6, 0]]"
      ]
     },
     "execution_count": 11,
     "metadata": {},
     "output_type": "execute_result"
    }
   ],
   "source": [
    "def partidos_ganados(partidos : list, equipo: str):\n",
    "    lstpartido = [0,0,0,0]#ganado,empatado,perdido,goles\n",
    "    lst_partido_goles=[]#partido,goles\n",
    "    p_jugado = 0\n",
    "    for partido in partidos:\n",
    "        p_jugado += 1\n",
    "        if equipo in partido[\"team_name_home\"]:\n",
    "            lst_partido_goles.append([p_jugado, int(partido[\"team_home_score\"]) ])\n",
    "            lstpartido[3] = lstpartido[3] + int(partido[\"team_home_score\"])\n",
    "            if partido[\"team_home_score\"] > partido[\"team_away_score\"]:\n",
    "                lstpartido[0] = lstpartido[0] +1\n",
    "            if partido[\"team_home_score\"] == partido[\"team_away_score\"]:\n",
    "                lstpartido[1] = lstpartido[1] +1\n",
    "            if partido[\"team_home_score\"] < partido[\"team_away_score\"]:\n",
    "                lstpartido[2] = lstpartido[2] +1\n",
    "\n",
    "        else:\n",
    "            lst_partido_goles.append([p_jugado,int(partido[\"team_away_score\"])] )\n",
    "            lstpartido[3] = lstpartido[3] + int(partido[\"team_away_score\"])\n",
    "            if partido[\"team_away_score\"] > partido[\"team_home_score\"]:\n",
    "                lstpartido[0] = lstpartido[0] +1\n",
    "            if partido[\"team_away_score\"] == partido[\"team_home_score\"]:\n",
    "                lstpartido[1] = lstpartido[1] +1\n",
    "            if partido[\"team_away_score\"] < partido[\"team_home_score\"]:\n",
    "                lstpartido[2] = lstpartido[2] +1\n",
    "        \n",
    "    return lstpartido ,lst_partido_goles\n",
    "\n",
    "lspartido, lsgoles = partidos_ganados (partidos,equipo)\n",
    "lsgoles\n"
   ]
  },
  {
   "cell_type": "code",
   "execution_count": 13,
   "id": "21a54e52",
   "metadata": {},
   "outputs": [
    {
     "name": "stdout",
     "output_type": "stream",
     "text": [
      "[1, 2, 3, 4, 5, 6] [1, 1, 5, 5, 1, 0]\n"
     ]
    }
   ],
   "source": [
    "from bokeh.plotting import figure\n",
    "\n",
    "def gfgoles(goles: list):\n",
    "    #pos 0partido pos1 n goles\n",
    "    x = []\n",
    "    y = []\n",
    "    for g in goles :\n",
    "        x.append(g[0])\n",
    "        y.append(g[1])\n",
    "    print(x,y)\n",
    "    \n",
    "    \n",
    "gfgoles(lsgoles)"
   ]
  }
 ],
 "metadata": {
  "kernelspec": {
   "display_name": "Python 3 (ipykernel)",
   "language": "python",
   "name": "python3"
  },
  "language_info": {
   "codemirror_mode": {
    "name": "ipython",
    "version": 3
   },
   "file_extension": ".py",
   "mimetype": "text/x-python",
   "name": "python",
   "nbconvert_exporter": "python",
   "pygments_lexer": "ipython3",
   "version": "3.9.7"
  }
 },
 "nbformat": 4,
 "nbformat_minor": 5
}
